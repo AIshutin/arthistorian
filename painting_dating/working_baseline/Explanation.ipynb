{
 "cells": [
  {
   "cell_type": "markdown",
   "metadata": {},
   "source": [
    "### Введение\n",
    "Данный проект был написан в рамках хакатона, проводимого летней школой СЛОН http://school-slon.ru/. В рамках выполнения задания была построена модель для определения временной принадлежности картины/фрески к тому или иному историческому периоду."
   ]
  },
  {
   "cell_type": "markdown",
   "metadata": {},
   "source": [
    "### Описание алгоритма\n",
    "Данные брались с сайта \n",
    "https://www.wga.hu\n"
   ]
  },
  {
   "cell_type": "code",
   "execution_count": 1,
   "metadata": {},
   "outputs": [
    {
     "data": {
      "text/html": [
       "<div>\n",
       "<style scoped>\n",
       "    .dataframe tbody tr th:only-of-type {\n",
       "        vertical-align: middle;\n",
       "    }\n",
       "\n",
       "    .dataframe tbody tr th {\n",
       "        vertical-align: top;\n",
       "    }\n",
       "\n",
       "    .dataframe thead th {\n",
       "        text-align: right;\n",
       "    }\n",
       "</style>\n",
       "<table border=\"1\" class=\"dataframe\">\n",
       "  <thead>\n",
       "    <tr style=\"text-align: right;\">\n",
       "      <th></th>\n",
       "      <th>0</th>\n",
       "      <th>1</th>\n",
       "    </tr>\n",
       "  </thead>\n",
       "  <tbody>\n",
       "    <tr>\n",
       "      <th>0</th>\n",
       "      <td>42b4327281e1bb16e19647d5aac727ab.jpg</td>\n",
       "      <td>1574</td>\n",
       "    </tr>\n",
       "    <tr>\n",
       "      <th>1</th>\n",
       "      <td>f0aa8fe52e17ae347b51f5447b63401c.jpg</td>\n",
       "      <td>1598</td>\n",
       "    </tr>\n",
       "    <tr>\n",
       "      <th>2</th>\n",
       "      <td>a16b6a572701af2fba7ad2f4fc01a01c.jpg</td>\n",
       "      <td>1602</td>\n",
       "    </tr>\n",
       "    <tr>\n",
       "      <th>3</th>\n",
       "      <td>b8c48933d18e247f02f204f758280a63.jpg</td>\n",
       "      <td>1595</td>\n",
       "    </tr>\n",
       "    <tr>\n",
       "      <th>4</th>\n",
       "      <td>57cb980521e2a7772224a782c34367d4.jpg</td>\n",
       "      <td>1593</td>\n",
       "    </tr>\n",
       "    <tr>\n",
       "      <th>...</th>\n",
       "      <td>...</td>\n",
       "      <td>...</td>\n",
       "    </tr>\n",
       "    <tr>\n",
       "      <th>44654</th>\n",
       "      <td>853d91d71288c90a914e67e808714aea.jpg</td>\n",
       "      <td>1682</td>\n",
       "    </tr>\n",
       "    <tr>\n",
       "      <th>44655</th>\n",
       "      <td>b9c51c05af63efc1f7005922fcff53f3.jpg</td>\n",
       "      <td>1854</td>\n",
       "    </tr>\n",
       "    <tr>\n",
       "      <th>44656</th>\n",
       "      <td>a11eb6f75a934dd5e920abfb092ed199.jpg</td>\n",
       "      <td>1854</td>\n",
       "    </tr>\n",
       "    <tr>\n",
       "      <th>44657</th>\n",
       "      <td>fd303c60e82940feb4559387621e70b9.jpg</td>\n",
       "      <td>1854</td>\n",
       "    </tr>\n",
       "    <tr>\n",
       "      <th>44658</th>\n",
       "      <td>54f757ed54757619e7fbfc632431bf62.jpg</td>\n",
       "      <td>1839</td>\n",
       "    </tr>\n",
       "  </tbody>\n",
       "</table>\n",
       "<p>44659 rows × 2 columns</p>\n",
       "</div>"
      ],
      "text/plain": [
       "                                          0     1\n",
       "0      42b4327281e1bb16e19647d5aac727ab.jpg  1574\n",
       "1      f0aa8fe52e17ae347b51f5447b63401c.jpg  1598\n",
       "2      a16b6a572701af2fba7ad2f4fc01a01c.jpg  1602\n",
       "3      b8c48933d18e247f02f204f758280a63.jpg  1595\n",
       "4      57cb980521e2a7772224a782c34367d4.jpg  1593\n",
       "...                                     ...   ...\n",
       "44654  853d91d71288c90a914e67e808714aea.jpg  1682\n",
       "44655  b9c51c05af63efc1f7005922fcff53f3.jpg  1854\n",
       "44656  a11eb6f75a934dd5e920abfb092ed199.jpg  1854\n",
       "44657  fd303c60e82940feb4559387621e70b9.jpg  1854\n",
       "44658  54f757ed54757619e7fbfc632431bf62.jpg  1839\n",
       "\n",
       "[44659 rows x 2 columns]"
      ]
     },
     "execution_count": 1,
     "metadata": {},
     "output_type": "execute_result"
    }
   ],
   "source": [
    "import pandas\n",
    "import os\n",
    "import seaborn as sns\n",
    "from tqdm.notebook import tqdm\n",
    "import numpy\n",
    "import pickle\n",
    "import torch\n",
    "path2data = '../../data/wga/'\n",
    "df = pandas.read_csv(os.path.join(path2data, 'prepared.csv'), header=None)\n",
    "df"
   ]
  },
  {
   "cell_type": "markdown",
   "metadata": {},
   "source": [
    "Распредение по векам"
   ]
  },
  {
   "cell_type": "code",
   "execution_count": 2,
   "metadata": {},
   "outputs": [],
   "source": [
    "df['century'] = (df[1] - 1) // 100 + 1"
   ]
  },
  {
   "cell_type": "code",
   "execution_count": null,
   "metadata": {},
   "outputs": [],
   "source": []
  },
  {
   "cell_type": "code",
   "execution_count": 3,
   "metadata": {
    "scrolled": false
   },
   "outputs": [
    {
     "name": "stdout",
     "output_type": "stream",
     "text": [
      "44655\n",
      "   centuries  # of paintings\n",
      "0          1               2\n",
      "1          2              23\n",
      "2          3              45\n",
      "3          4             133\n",
      "4          5             103\n"
     ]
    },
    {
     "data": {
      "text/plain": [
       "<matplotlib.axes._subplots.AxesSubplot at 0x7fe25958e1d0>"
      ]
     },
     "execution_count": 3,
     "metadata": {},
     "output_type": "execute_result"
    },
    {
     "data": {
      "image/png": "[encoded data removed]",
      "text/plain": [
       "<Figure size 432x288 with 1 Axes>"
      ]
     },
     "metadata": {
      "needs_background": "light"
     },
     "output_type": "display_data"
    }
   ],
   "source": [
    "\n",
    "def make_freq_bar_chart(col):\n",
    "    dct = {}\n",
    "    print(len(col))\n",
    "    for el in col:\n",
    "        if el in dct:\n",
    "            dct[el] += 1\n",
    "        else:\n",
    "            dct[el] = 1\n",
    "    \n",
    "    data = {\"centuries\": [], \"# of paintings\": []}\n",
    "    for el in sorted(dct.items(), key=lambda x: x[0]):\n",
    "        data['centuries'].append(el[0])\n",
    "        data['# of paintings'].append(el[1])\n",
    "    df = pandas.DataFrame(data=data)\n",
    "    print(df.head())\n",
    "    return df.plot.bar(x=\"centuries\", y=\"# of paintings\", title=\"# of paintings by century\");\n",
    "    #plot.show(block=True);\n",
    "\n",
    "df = df[df[1] <= 2020]\n",
    "make_freq_bar_chart(df['century'])\n",
    "# df.hist(column='century')[0]\n",
    "# sns.distplot(df['century'], kde=False, rug=True);"
   ]
  },
  {
   "cell_type": "code",
   "execution_count": 4,
   "metadata": {
    "scrolled": false
   },
   "outputs": [
    {
     "name": "stdout",
     "output_type": "stream",
     "text": [
      "44655\n",
      "   centuries  # of paintings\n",
      "0          0            3685\n",
      "1          1            1716\n",
      "2          2            1048\n",
      "3          3            2497\n",
      "4          4            5089\n"
     ]
    },
    {
     "name": "stderr",
     "output_type": "stream",
     "text": [
      "/usr/local/lib/python3.6/dist-packages/ipykernel_launcher.py:12: SettingWithCopyWarning: \n",
      "A value is trying to be set on a copy of a slice from a DataFrame.\n",
      "Try using .loc[row_indexer,col_indexer] = value instead\n",
      "\n",
      "See the caveats in the documentation: http://pandas.pydata.org/pandas-docs/stable/user_guide/indexing.html#returning-a-view-versus-a-copy\n",
      "  if sys.path[0] == '':\n"
     ]
    },
    {
     "data": {
      "text/plain": [
       "<matplotlib.axes._subplots.AxesSubplot at 0x7fe25943ecf8>"
      ]
     },
     "execution_count": 4,
     "metadata": {},
     "output_type": "execute_result"
    },
    {
     "data": {
      "image/png": "[encoded data removed]",
      "text/plain": [
       "<Figure size 432x288 with 1 Axes>"
      ]
     },
     "metadata": {
      "needs_background": "light"
     },
     "output_type": "display_data"
    }
   ],
   "source": [
    "def year2class(year):\n",
    "    bounds = [i + 1 for i in range(1300, 2051, 50)]\n",
    "    # print(bounds)\n",
    "    for i in range(len(bounds)):\n",
    "        if year < bounds[i]:\n",
    "            # print(year, bounds[i], i)\n",
    "            return i\n",
    "    raise Exception(year)\n",
    "        \n",
    "\n",
    "\n",
    "df['classes'] = df[1].apply(year2class)\n",
    "make_freq_bar_chart(df['classes'])"
   ]
  },
  {
   "cell_type": "markdown",
   "metadata": {},
   "source": [
    "Для большего баланса классов было решено объединить период 201-1300 гг  \n",
    "![](../README/data.png)  \n"
   ]
  },
  {
   "cell_type": "code",
   "execution_count": 20,
   "metadata": {},
   "outputs": [
    {
     "data": {
      "text/html": [
       "<div>\n",
       "<style scoped>\n",
       "    .dataframe tbody tr th:only-of-type {\n",
       "        vertical-align: middle;\n",
       "    }\n",
       "\n",
       "    .dataframe tbody tr th {\n",
       "        vertical-align: top;\n",
       "    }\n",
       "\n",
       "    .dataframe thead th {\n",
       "        text-align: right;\n",
       "    }\n",
       "</style>\n",
       "<table border=\"1\" class=\"dataframe\">\n",
       "  <thead>\n",
       "    <tr style=\"text-align: right;\">\n",
       "      <th></th>\n",
       "      <th>0</th>\n",
       "      <th>1</th>\n",
       "      <th>century</th>\n",
       "      <th>classes</th>\n",
       "    </tr>\n",
       "  </thead>\n",
       "  <tbody>\n",
       "    <tr>\n",
       "      <th>0</th>\n",
       "      <td>42b4327281e1bb16e19647d5aac727ab.jpg</td>\n",
       "      <td>1574</td>\n",
       "      <td>16</td>\n",
       "      <td>6</td>\n",
       "    </tr>\n",
       "    <tr>\n",
       "      <th>1</th>\n",
       "      <td>f0aa8fe52e17ae347b51f5447b63401c.jpg</td>\n",
       "      <td>1598</td>\n",
       "      <td>16</td>\n",
       "      <td>6</td>\n",
       "    </tr>\n",
       "    <tr>\n",
       "      <th>2</th>\n",
       "      <td>a16b6a572701af2fba7ad2f4fc01a01c.jpg</td>\n",
       "      <td>1602</td>\n",
       "      <td>17</td>\n",
       "      <td>7</td>\n",
       "    </tr>\n",
       "    <tr>\n",
       "      <th>3</th>\n",
       "      <td>b8c48933d18e247f02f204f758280a63.jpg</td>\n",
       "      <td>1595</td>\n",
       "      <td>16</td>\n",
       "      <td>6</td>\n",
       "    </tr>\n",
       "    <tr>\n",
       "      <th>4</th>\n",
       "      <td>57cb980521e2a7772224a782c34367d4.jpg</td>\n",
       "      <td>1593</td>\n",
       "      <td>16</td>\n",
       "      <td>6</td>\n",
       "    </tr>\n",
       "  </tbody>\n",
       "</table>\n",
       "</div>"
      ],
      "text/plain": [
       "                                      0     1  century  classes\n",
       "0  42b4327281e1bb16e19647d5aac727ab.jpg  1574       16        6\n",
       "1  f0aa8fe52e17ae347b51f5447b63401c.jpg  1598       16        6\n",
       "2  a16b6a572701af2fba7ad2f4fc01a01c.jpg  1602       17        7\n",
       "3  b8c48933d18e247f02f204f758280a63.jpg  1595       16        6\n",
       "4  57cb980521e2a7772224a782c34367d4.jpg  1593       16        6"
      ]
     },
     "execution_count": 20,
     "metadata": {},
     "output_type": "execute_result"
    }
   ],
   "source": [
    "to_process = df[df['classes'] < 13]\n",
    "to_process.head()"
   ]
  },
  {
   "cell_type": "code",
   "execution_count": 21,
   "metadata": {},
   "outputs": [
    {
     "name": "stdout",
     "output_type": "stream",
     "text": [
      "6 3759\n",
      "7 6052\n",
      "12 3093\n",
      "4 5089\n",
      "5 6452\n",
      "8 3749\n",
      "11 2141\n",
      "10 2616\n",
      "9 2455\n",
      "1 1716\n",
      "3 2497\n",
      "2 1048\n",
      "0 3685\n",
      "mn 1048\n"
     ]
    }
   ],
   "source": [
    "class2ids = dict()\n",
    "for row in to_process.iterrows():\n",
    "    ind = row[0]\n",
    "    row = row[1]\n",
    "    cid = row['classes']\n",
    "    if cid not in class2ids:\n",
    "        class2ids[cid] = [ind]\n",
    "    else:\n",
    "        class2ids[cid].append(ind)\n",
    "mn = -1\n",
    "for el in class2ids:\n",
    "    print(el, len(class2ids[el]))\n",
    "    if mn == -1 or len(class2ids[el]) < mn:\n",
    "        mn = len(class2ids[el])\n",
    "print('mn', mn)"
   ]
  },
  {
   "cell_type": "code",
   "execution_count": 22,
   "metadata": {},
   "outputs": [],
   "source": [
    "from random import shuffle\n",
    "import pickle\n",
    "\n",
    "for el in class2ids:\n",
    "    shuffle(class2ids[el])\n",
    "    class2ids[el] = class2ids[el][:mn]\n",
    "good_rows = []\n",
    "for el in class2ids:\n",
    "    for rid in class2ids[el]:\n",
    "        good_rows.append(to_process.loc[rid])\n",
    "balanced_df = pandas.DataFrame(good_rows)\n",
    "balanced_df.head()\n",
    "\n",
    "with open('balanced.pkl', 'wb') as file:\n",
    "    pickle.dump(balanced_df, file=file)"
   ]
  },
  {
   "cell_type": "markdown",
   "metadata": {},
   "source": [
    "Для решения задачи была использована следующая модель:\n",
    "![](../README/model_architecture.png)  \n",
    "- Сеть vgg19 до слоя conv_5_1 (1)\n"
   ]
  },
  {
   "cell_type": "code",
   "execution_count": 23,
   "metadata": {
    "scrolled": false
   },
   "outputs": [
    {
     "name": "stdout",
     "output_type": "stream",
     "text": [
      "Sequential(\n",
      "  (0): Conv2d(3, 64, kernel_size=(3, 3), stride=(1, 1), padding=(1, 1))\n",
      "  (1): ReLU(inplace=True)\n",
      "  (2): Conv2d(64, 64, kernel_size=(3, 3), stride=(1, 1), padding=(1, 1))\n",
      "  (3): ReLU(inplace=True)\n",
      "  (4): MaxPool2d(kernel_size=2, stride=2, padding=0, dilation=1, ceil_mode=False)\n",
      "  (5): Conv2d(64, 128, kernel_size=(3, 3), stride=(1, 1), padding=(1, 1))\n",
      "  (6): ReLU(inplace=True)\n",
      "  (7): Conv2d(128, 128, kernel_size=(3, 3), stride=(1, 1), padding=(1, 1))\n",
      "  (8): ReLU(inplace=True)\n",
      "  (9): MaxPool2d(kernel_size=2, stride=2, padding=0, dilation=1, ceil_mode=False)\n",
      "  (10): Conv2d(128, 256, kernel_size=(3, 3), stride=(1, 1), padding=(1, 1))\n",
      "  (11): ReLU(inplace=True)\n",
      "  (12): Conv2d(256, 256, kernel_size=(3, 3), stride=(1, 1), padding=(1, 1))\n",
      "  (13): ReLU(inplace=True)\n",
      "  (14): Conv2d(256, 256, kernel_size=(3, 3), stride=(1, 1), padding=(1, 1))\n",
      "  (15): ReLU(inplace=True)\n",
      "  (16): Conv2d(256, 256, kernel_size=(3, 3), stride=(1, 1), padding=(1, 1))\n",
      "  (17): ReLU(inplace=True)\n",
      "  (18): MaxPool2d(kernel_size=2, stride=2, padding=0, dilation=1, ceil_mode=False)\n",
      "  (19): Conv2d(256, 512, kernel_size=(3, 3), stride=(1, 1), padding=(1, 1))\n",
      "  (20): ReLU(inplace=True)\n",
      "  (21): Conv2d(512, 512, kernel_size=(3, 3), stride=(1, 1), padding=(1, 1))\n",
      "  (22): ReLU(inplace=True)\n",
      "  (23): Conv2d(512, 512, kernel_size=(3, 3), stride=(1, 1), padding=(1, 1))\n",
      "  (24): ReLU(inplace=True)\n",
      "  (25): Conv2d(512, 512, kernel_size=(3, 3), stride=(1, 1), padding=(1, 1))\n",
      ")\n"
     ]
    }
   ],
   "source": [
    "from PIL import Image\n",
    "from torchvision import datasets, models, transforms\n",
    "from torch.utils.data import Dataset, DataLoader\n",
    "import torch\n",
    "\n",
    "device = torch.device('cpu' if torch.cuda.device_count() == 0 else 'cuda:0')\n",
    "DATA_SIZE = 224\n",
    "\n",
    "class Resize:\n",
    "  pad_color = [0, 0, 0]\n",
    "  def __init__(self, image_size=DATA_SIZE):\n",
    "    self.image_size = image_size\n",
    "\n",
    "  def __call__(self, img):\n",
    "    width, height = img.size\n",
    "    scale_f = max(width, height) / self.image_size\n",
    "    width_new = int(width / scale_f)\n",
    "    height_new = int(height / scale_f)\n",
    "    img = img.resize((width_new, height_new))\n",
    "    return img\n",
    "\n",
    "class RudeResize:\n",
    "    def __init__(self, image_size=DATA_SIZE):\n",
    "        self.image_size = image_size\n",
    "    \n",
    "    def __call__(self, img):\n",
    "        return img.resize((self.image_size, self.image_size))\n",
    "\n",
    "def gram_matrix(input):\n",
    "    a, b, c, d = input.size()  # a=batch size(=1)\n",
    "    # b=number of feature maps\n",
    "    # (c,d)=dimensions of a f. map (N=c*d)\n",
    "\n",
    "    features = input.view(a * b, c * d)  # resise F_XL into \\hat F_XL\n",
    "\n",
    "    G = torch.mm(features, features.t())  # compute the gram product\n",
    "\n",
    "    # we 'normalize' the values of the gram matrix\n",
    "    # by dividing by the number of element in each feature maps.\n",
    "    return G.div(a * b * c * d)\n",
    "\n",
    "class MyTransform:\n",
    "    def __init__(self):\n",
    "        model_ft = models.vgg19(pretrained=True)\n",
    "        self.net = torch.nn.Sequential(\n",
    "           *model_ft.features[:26],\n",
    "        ).to(device)\n",
    "        '''self.before = transforms.Compose([\n",
    "            Resize(DATA_SIZE * 4),\n",
    "            transforms.CenterCrop((DATA_SIZE, DATA_SIZE)),\n",
    "        #    transforms.ColorJitter(0.1),\n",
    "            transforms.ToTensor(),\n",
    "            transforms.Normalize([0.485, 0.456, 0.406], [0.229, 0.224, 0.225]),\n",
    "        ])'''\n",
    "        self.before = transforms.Compose([\n",
    "            RudeResize(DATA_SIZE),\n",
    "        #    transforms.ColorJitter(0.1),\n",
    "            transforms.ToTensor(),\n",
    "            transforms.Normalize([0.485, 0.456, 0.406], [0.229, 0.224, 0.225]),\n",
    "        ])\n",
    "        \n",
    "        print(self.net)\n",
    "    \n",
    "    def __call__(self, img):\n",
    "        # print(img)\n",
    "        #print(img.size)\n",
    "        img = self.before(img).to(device)\n",
    "        #print(img.shape)\n",
    "        with torch.no_grad():\n",
    "            img = self.net(img.unsqueeze(0))\n",
    "        img = gram_matrix(img).cpu().view(-1)\n",
    "        #print(img.shape)\n",
    "        return img.numpy()\n",
    "\n",
    "transform = MyTransform()\n",
    "\n",
    "def net_row_transform(row):\n",
    "    path = os.path.join('../../data/wga/art/', row[0])\n",
    "    # print(row, len(row))\n",
    "    class_id = row['classes']\n",
    "    try:\n",
    "        img = Image.open(path).convert(\"RGB\")\n",
    "    except:\n",
    "        return None\n",
    "    return transform(img),  class_id"
   ]
  },
  {
   "cell_type": "code",
   "execution_count": 9,
   "metadata": {},
   "outputs": [
    {
     "name": "stdout",
     "output_type": "stream",
     "text": [
      "[0 0 0 0 0 0 0 0 0 0 1 1 1 1 1 1 1 1 1 1 2 2 2 2 2 2 2 2 2 2 3 3 3 3 3 3 3\n",
      " 3 3 3 4 4 4 4 4 4 4 4 4 4 5 5 5 5 5 5 5 5 5 5 6 6 6 6 6 6 6 6 6 6 7 7 7 7\n",
      " 7 7 7 7 7 7 8 8 8 8 8 8 8 8 8 8 9 9 9 9 9 9 9 9 9]\n",
      "[ 1  2  3  4  5  6  7  8  9 10 11 12 13 14 15 16 17 18 19 20 21 22 23 24\n",
      " 25 26 27 28 29 30 31 32 33 34 35 36 37 38 39 40 41 42 43 44 45 46 47 48\n",
      " 49 50 51 52 53 54 55 56 57 58 59 60 61 62 63 64 65 66 67 68 69 70 71 72\n",
      " 73 74 75 76 77 78 79 80 81 82 83 84 85 86 87 88 89 90 91 92 93 94 95 96\n",
      " 97 98 99]\n"
     ]
    }
   ],
   "source": [
    "import numpy\n",
    "def equal_bin(N, m):\n",
    "    sep = (N.size/float(m))*numpy.arange(1,m+1)\n",
    "    idx = sep.searchsorted(numpy.arange(N.size))\n",
    "    return idx[N.argsort().argsort()]\n",
    "\n",
    "def equal_bin_v2(N, m):\n",
    "    idx = numpy.linspace(0,m,N.size+1, endpoint=0).astype(int)\n",
    "    return idx[N.argsort().argsort()]  \n",
    "\n",
    "N = numpy.arange(1,100)\n",
    "numpy.bincount(equal_bin_v2(N, 10))\n",
    "print(equal_bin(N, 10))\n",
    "print(N)\n"
   ]
  },
  {
   "cell_type": "code",
   "execution_count": 30,
   "metadata": {},
   "outputs": [],
   "source": []
  },
  {
   "cell_type": "code",
   "execution_count": null,
   "metadata": {},
   "outputs": [],
   "source": [
    "!mkdir table\n",
    "import pickle\n",
    "\n",
    "files = []\n",
    "y_file = open('table/y', 'w')\n",
    "for row in tqdm(to_process.iterrows(), total=len(to_process)):\n",
    "    result = net_row_transform(row[1])\n",
    "    if result is None:\n",
    "        continue\n",
    "    arr, class_id = result\n",
    "    arr = arr.reshape(-1, 1024)\n",
    "    for i in range(arr.shape[0]):\n",
    "        if len(files) == i:\n",
    "            files.append(open(f'table/{i}.pkl', 'wb'))\n",
    "        pickle.dump(arr[i], files[i])\n",
    "    print(class_id, file=y_file, end=' ')\n",
    "y_file.close()\n",
    "for el in files:\n",
    "    el.close()"
   ]
  },
  {
   "cell_type": "code",
   "execution_count": 51,
   "metadata": {
    "scrolled": true
   },
   "outputs": [
    {
     "data": {
      "application/vnd.jupyter.widget-view+json": {
       "model_id": "0c1da2dbd13e4b5a8b84c5d737a810d2",
       "version_major": 2,
       "version_minor": 0
      },
      "text/plain": [
       "HBox(children=(FloatProgress(value=0.0, max=256.0), HTML(value='')))"
      ]
     },
     "metadata": {},
     "output_type": "display_data"
    },
    {
     "name": "stdout",
     "output_type": "stream",
     "text": [
      "\n"
     ]
    }
   ],
   "source": [
    "import pickle\n",
    "feature2corr = []\n",
    "y = [int(el) for el in list(open('table/y').read().split())]\n",
    "classes = max(y) + 1\n",
    "n_rows = len(y)\n",
    "y_true = [[j == y[i] for j in range(classes)]  for i in range(len(y))]\n",
    "df_y = pandas.DataFrame(y_true)\n",
    "for i in tqdm(range(256)): # 256\n",
    "    rows = []\n",
    "    file = open(f'table/{i}.pkl', 'rb')\n",
    "    for j in range(n_rows):\n",
    "        rows.append(pickle.load(file))\n",
    "    df = pandas.DataFrame.from_records(rows)\n",
    "    results = [df.corrwith(df_y[i]) for i in range(classes)]\n",
    "    feature2corr += [[results[j][i] for j in range(classes)] for i in range(1024)]    \n",
    "with open('correlations.pkl', 'wb') as file:\n",
    "    pickle.dump(feature2corr, file)"
   ]
  },
  {
   "cell_type": "code",
   "execution_count": 23,
   "metadata": {},
   "outputs": [
    {
     "data": {
      "text/plain": [
       "array([[<matplotlib.axes._subplots.AxesSubplot object at 0x7f23d9ccbf28>]],\n",
       "      dtype=object)"
      ]
     },
     "execution_count": 23,
     "metadata": {},
     "output_type": "execute_result"
    },
    {
     "data": {
      "image/png": "[encoded data removed]",
      "text/plain": [
       "<Figure size 432x288 with 1 Axes>"
      ]
     },
     "metadata": {
      "needs_background": "light"
     },
     "output_type": "display_data"
    }
   ],
   "source": [
    "with open('correlations.pkl', 'rb') as file:\n",
    "    feature2corr = pickle.load(file)\n",
    "min_features = [(max([abs(el) for el in feature2corr[i]]), i) for i in range(len(feature2corr))]\n",
    "min_features.sort()\n",
    "\n",
    "df = pandas.DataFrame([min_features[i][0] for i in range(len(min_features))])\n",
    "df.hist()"
   ]
  },
  {
   "cell_type": "code",
   "execution_count": 26,
   "metadata": {},
   "outputs": [
    {
     "name": "stdout",
     "output_type": "stream",
     "text": [
      "11992\n",
      "[[[0.1700003233690957, 0.08256955769701402, 0.07953936081912119, 0.07685433085665491, 0.07300949523965028, 0.020639611674061066, -0.02755638172618021, -0.09878054276922109, -0.09790290117700912, -0.08847936069493155, -0.06963006233689104, -0.08239735443436975], 144787], [[0.1700003233690957, 0.08256955769701402, 0.07953936081912119, 0.07685433085665491, 0.07300949523965028, 0.020639611674061066, -0.02755638172618021, -0.09878054276922109, -0.09790290117700912, -0.08847936069493155, -0.06963006233689104, -0.08239735443436975], 206618], [[0.1700005685737498, 0.040185403395557845, 0.05531702094804727, 0.054495724474665046, 0.05107616558739418, -0.0035425685484808986, -0.0023583546308918826, -0.09434456364586537, -0.06664811927166847, -0.028418038491421882, -0.07152191013415447, -0.07320392936603135], 193975]]\n"
     ]
    },
    {
     "data": {
      "text/plain": [
       "array([[<matplotlib.axes._subplots.AxesSubplot object at 0x7f23551dbf28>]],\n",
       "      dtype=object)"
      ]
     },
     "execution_count": 26,
     "metadata": {},
     "output_type": "execute_result"
    },
    {
     "data": {
      "image/png": "[encoded data removed]",
      "text/plain": [
       "<Figure size 432x288 with 1 Axes>"
      ]
     },
     "metadata": {
      "needs_background": "light"
     },
     "output_type": "display_data"
    }
   ],
   "source": [
    "THR = 0.17\n",
    "ind = 0\n",
    "left_features = []\n",
    "for el in min_features:\n",
    "    if el[0] < THR:\n",
    "        continue\n",
    "    left_features.append([feature2corr[el[1]], el[1]])\n",
    "print(len(left_features))\n",
    "arr = [abs(left_features[i][0][ind]) for i in range(len(left_features))]\n",
    "pandas.DataFrame(arr).hist()"
   ]
  },
  {
   "cell_type": "code",
   "execution_count": 24,
   "metadata": {},
   "outputs": [
    {
     "data": {
      "application/vnd.jupyter.widget-view+json": {
       "model_id": "8e264e7103cb4d35857eb119f08ad6f7",
       "version_major": 2,
       "version_minor": 0
      },
      "text/plain": [
       "HBox(children=(FloatProgress(value=0.0, max=13624.0), HTML(value='')))"
      ]
     },
     "metadata": {},
     "output_type": "display_data"
    },
    {
     "name": "stdout",
     "output_type": "stream",
     "text": [
      "ooops ['072ac2f12a5e4bfb0ff29bffdee32e79.jpg', 1567, 16, 6]\n",
      "ooops ['372e47ae0987e12bafc18942d701db5d.jpg', 1566, 16, 6]\n",
      "ooops ['123d5864f336d4d6e83e58e125e2cdd8.jpg', 1552, 16, 6]\n",
      "ooops ['b4010de45a85ab318691b070e586ea1e.jpg', 1559, 16, 6]\n",
      "ooops ['134a415af64a79b316be53d2702e9679.jpg', 1570, 16, 6]\n",
      "ooops ['1e68d85bd2f2815e9ffa2c2dfe22dbc8.jpg', 1580, 16, 6]\n",
      "ooops ['48b97f6162601f4dd3ca09de0760316d.jpg', 1557, 16, 6]\n",
      "ooops ['7e44009e552e48a3d21dd30572ed6a3b.jpg', 1555, 16, 6]\n",
      "ooops ['22138df8d1d89b09f9e60f558f1552a2.jpg', 1896, 19, 12]\n",
      "ooops ['0d435d87a941c0920eaa5cbb102db16e.jpg', 1897, 19, 12]\n",
      "ooops ['59eaac23a567379876c90c0aed6d42fc.jpg', 1897, 19, 12]\n",
      "ooops ['5b4664f2d028ced1bfe12d106ebdc5e7.jpg', 1894, 19, 12]\n",
      "ooops ['65f45ec3e242ff885eaaab63a3c9c2ef.jpg', 1893, 19, 12]\n",
      "ooops ['3f97db6cb7ef3901c5c0efd222adfaff.jpg', 1894, 19, 12]\n",
      "ooops ['71516966706af8f88cadf44e3b1c0769.jpg', 1894, 19, 12]\n",
      "ooops ['2ce519a34cf619d190fadfe40792de40.jpg', 1893, 19, 12]\n",
      "ooops ['4eba4c156d52cb7d4afd8d6f5e09f3a5.jpg', 1499, 15, 4]\n",
      "ooops ['8e14ebf37bae90201f2ad87bc5eebdd8.jpg', 1490, 15, 4]\n",
      "ooops ['a143f861e6d0a189303c6e502baf0eda.jpg', 1465, 15, 4]\n",
      "ooops ['d9526fc549afc539143a6784e10a4632.jpg', 1465, 15, 4]\n",
      "ooops ['f1a018ce10ec3c9652c35402ff6a1f50.jpg', 1534, 16, 5]\n",
      "ooops ['561f3431576ef50427ac30a0b75ca956.jpg', 1542, 16, 5]\n",
      "ooops ['6d14dd34a13ef19215f1cea61e989409.jpg', 1545, 16, 5]\n",
      "ooops ['54314ad4e91eff578c0ec4b981faa2b9.jpg', 1675, 17, 8]\n",
      "ooops ['53c99cf55c97fa6901ffb10114e2cd2c.jpg', 1841, 19, 11]\n",
      "ooops ['9297720d209dac576fa77d652806366d.jpg', 1733, 18, 9]\n",
      "ooops ['65fd6bdd089d08e2e1580268e8886a09.jpg', 1404, 15, 3]\n",
      "ooops ['0e7b54379ae46d21aaf0edecaecad87c.jpg', 1420, 15, 3]\n",
      "ooops ['94625748e602efdb1b458059c4e3a4c2.jpg', 1405, 15, 3]\n",
      "ooops ['1c030290c9afb11e22e5fc69de000a31.jpg', 1404, 15, 3]\n",
      "ooops ['eb043db2e4d096021c5f0950ed47b6e2.jpg', 1450, 15, 3]\n",
      "ooops ['29e77a6f18ac88f3722228ef954fba74.jpg', 1404, 15, 3]\n",
      "ooops ['54660e06d882461f27a008eb33740384.jpg', 1405, 15, 3]\n",
      "ooops ['03951c31fa514092c6af115e267be5f2.jpg', 1368, 14, 2]\n",
      "ooops ['b5fd471264313a636c6b4a69b2478b1b.jpg', 1391, 14, 2]\n",
      "ooops ['4c01d9c09e88e41b85ec3e365883f42a.jpg', 1190, 12, 0]\n",
      "ooops ['60b474553e2f74ed08611be61260f5bb.jpg', 1160, 12, 0]\n",
      "ooops ['3ef881391ff8c3694864faa837978398.jpg', 1170, 12, 0]\n",
      "ooops ['49b71a32ebf978d835d12a230d6aff46.jpg', 750, 8, 0]\n",
      "ooops ['81510c558788018a8562dacb99205c3a.jpg', 750, 8, 0]\n",
      "ooops ['855a6964907d5cdf108049228f32d333.jpg', 1200, 12, 0]\n",
      "\n"
     ]
    }
   ],
   "source": [
    "import numpy\n",
    "saved_features = numpy.load('features8000.npy')# numpy.array([el[1] for el in left_features])\n",
    "with open('balanced.pkl', 'rb') as file:\n",
    "    balanced_df = pickle.load(file)\n",
    "X = []\n",
    "y = []\n",
    "for row in tqdm(balanced_df.iterrows(), total=len(balanced_df)):\n",
    "    result = net_row_transform(row[1])\n",
    "    if result is None:\n",
    "        print('ooops', list(row[1]))\n",
    "        continue\n",
    "    arr, class_id = result\n",
    "    good_features = arr[saved_features]\n",
    "    X.append(good_features)\n",
    "    y.append(class_id) "
   ]
  },
  {
   "cell_type": "code",
   "execution_count": 25,
   "metadata": {},
   "outputs": [
    {
     "name": "stdout",
     "output_type": "stream",
     "text": [
      "13624\n",
      "   centuries  # of paintings\n",
      "0          0            1048\n",
      "1          1            1048\n",
      "2          2            1048\n",
      "3          3            1048\n",
      "4          4            1048\n"
     ]
    },
    {
     "data": {
      "text/plain": [
       "<matplotlib.axes._subplots.AxesSubplot at 0x7fe240d082b0>"
      ]
     },
     "execution_count": 25,
     "metadata": {},
     "output_type": "execute_result"
    },
    {
     "data": {
      "image/png": "[encoded data removed]",
      "text/plain": [
       "<Figure size 432x288 with 1 Axes>"
      ]
     },
     "metadata": {
      "needs_background": "light"
     },
     "output_type": "display_data"
    }
   ],
   "source": [
    "make_freq_bar_chart(balanced_df['classes'])"
   ]
  },
  {
   "cell_type": "code",
   "execution_count": 30,
   "metadata": {},
   "outputs": [],
   "source": [
    "from sklearn import svm\n",
    "from sklearn.model_selection import train_test_split\n",
    "from sklearn.metrics import confusion_matrix, f1_score\n",
    "import numpy\n",
    "X_train, X_test, y_train, y_test = train_test_split(X, y, test_size=0.9, random_state=42)"
   ]
  },
  {
   "cell_type": "code",
   "execution_count": 24,
   "metadata": {},
   "outputs": [
    {
     "name": "stderr",
     "output_type": "stream",
     "text": [
      "/usr/local/lib/python3.6/dist-packages/sklearn/svm/base.py:193: FutureWarning: The default value of gamma will change from 'auto' to 'scale' in version 0.22 to account better for unscaled features. Set gamma explicitly to 'auto' or 'scale' to avoid this warning.\n",
      "  \"avoid this warning.\", FutureWarning)\n"
     ]
    },
    {
     "name": "stdout",
     "output_type": "stream",
     "text": [
      "[LibSVM][[145   0   1   5   0   3  17   0   0   0 121   0]\n",
      " [146   0   4   6   0   5  26   1   0   0 136   0]\n",
      " [134   0  16   4   0   3  17   2   0   0 123   0]\n",
      " [116   0  13   8   0   5  28   3   0   0 140   0]\n",
      " [112   0  11  10   0   4  28   1   0   0 171   0]\n",
      " [ 62   0   7   8   0   6  26   1   0   0 206   0]\n",
      " [ 68   0   2   5   0   4  10   6   0   0 205   0]\n",
      " [ 35   0   4   0   0   1  10   1   0   0 261   0]\n",
      " [ 50   0   5   2   0   0  15   0   0   0 241   0]\n",
      " [ 68   0   2   0   0   2  12   0   0   0 252   0]\n",
      " [ 49   0   0   0   0   0   4   0   0   0 248   0]\n",
      " [ 42   0   2   2   0   5   8   0   0   0 262   0]]\n",
      "0.11530286928799148\n",
      "0.0514403156314307\n"
     ]
    },
    {
     "name": "stderr",
     "output_type": "stream",
     "text": [
      "/usr/local/lib/python3.6/dist-packages/sklearn/metrics/classification.py:1437: UndefinedMetricWarning: F-score is ill-defined and being set to 0.0 in labels with no predicted samples.\n",
      "  'precision', 'predicted', average, warn_for)\n"
     ]
    },
    {
     "data": {
      "text/plain": [
       "<matplotlib.axes._subplots.AxesSubplot at 0x7fd36514c7f0>"
      ]
     },
     "execution_count": 24,
     "metadata": {},
     "output_type": "execute_result"
    },
    {
     "data": {
      "image/png": "[encoded data removed]",
      "text/plain": [
       "<Figure size 432x288 with 2 Axes>"
      ]
     },
     "metadata": {
      "needs_background": "light"
     },
     "output_type": "display_data"
    }
   ],
   "source": [
    "from sklearn import svm\n",
    "from sklearn.model_selection import train_test_split\n",
    "from sklearn.metrics import confusion_matrix, f1_score\n",
    "import numpy\n",
    "X_train, X_test, y_train, y_test = train_test_split(X, y, test_size=0.3, random_state=42)\n",
    "\n",
    "clf = svm.SVC(verbose=1, kernel='sigmoid')\n",
    "clf.fit(X_train, y_train)\n",
    "predicted = clf.predict(X_test)\n",
    "confusion = confusion_matrix(y_test, predicted)"
   ]
  },
  {
   "cell_type": "code",
   "execution_count": 27,
   "metadata": {
    "scrolled": true
   },
   "outputs": [],
   "source": [
    "import joblib\n",
    "clf = joblib.load(open('linear_svc_balanced.pkl', 'rb'))"
   ]
  },
  {
   "cell_type": "code",
   "execution_count": 31,
   "metadata": {},
   "outputs": [],
   "source": [
    "y_test = [el + 16 for el in y_test]"
   ]
  },
  {
   "cell_type": "code",
   "execution_count": 32,
   "metadata": {},
   "outputs": [
    {
     "name": "stdout",
     "output_type": "stream",
     "text": [
      "[[199  38  14 152  41  61  80   3   6   3   2   9 329]\n",
      " [ 59 283  60 201  21  38  77   1   5   4   4   5 191]\n",
      " [ 34  40 210 268  32  50  81   3   2   3   2  10 221]\n",
      " [ 25  14  27 368  55  50 103   4   4   5   2   5 251]\n",
      " [ 15  11  11 164 189 120 122   3   1   4   3   8 300]\n",
      " [ 14  11   2  63  26 295 191   8   1   7   2  16 299]\n",
      " [  9   4   2  53   7  77 413  13   3   6   4  21 330]\n",
      " [  3   3   2  38  14  66 276 137   9   9  10  26 352]\n",
      " [  5   2   4  53  11  70 213  64  28  25  14  34 408]\n",
      " [  5   2   2  44  11  64 186  32   3 148  30  31 406]\n",
      " [  6   2   2  48  14  63 132  21   5  49 104  57 429]\n",
      " [  3   4   1  53   7  45  91   8   3  15  23 116 560]\n",
      " [  2   1   1  20   5  13  32   2   2   2   3  18 840]]\n",
      "0.2723926380368098\n",
      "0.2589016788447415\n"
     ]
    },
    {
     "data": {
      "text/plain": [
       "<matplotlib.axes._subplots.AxesSubplot at 0x7fe258dcaac8>"
      ]
     },
     "execution_count": 32,
     "metadata": {},
     "output_type": "execute_result"
    },
    {
     "data": {
      "image/png": "[encoded data removed]",
      "text/plain": [
       "<Figure size 432x288 with 2 Axes>"
      ]
     },
     "metadata": {
      "needs_background": "light"
     },
     "output_type": "display_data"
    }
   ],
   "source": [
    "predicted = clf.predict(X_test)\n",
    "\n",
    "confusion = confusion_matrix(y_test, predicted)\n",
    "print(confusion)\n",
    "print(f1_score(y_test, predicted, average='micro'))\n",
    "print(f1_score(y_test, predicted, average='macro'))\n",
    "sns.heatmap(confusion)"
   ]
  },
  {
   "cell_type": "code",
   "execution_count": 86,
   "metadata": {},
   "outputs": [
    {
     "name": "stdout",
     "output_type": "stream",
     "text": [
      "1361 8192 11992\n"
     ]
    }
   ],
   "source": [
    "arr = numpy.load('features8000.npy')\n",
    "len(arr)\n",
    "cnt = 0\n",
    "exists = set(el[1] for el in left_features)\n",
    "for el in arr:\n",
    "    if el in exists:\n",
    "        cnt += 1\n",
    "print(cnt, len(arr), len(left_features))"
   ]
  }
 ],
 "metadata": {
  "kernelspec": {
   "display_name": "Python 3",
   "language": "python",
   "name": "python3"
  },
  "language_info": {
   "codemirror_mode": {
    "name": "ipython",
    "version": 3
   },
   "file_extension": ".py",
   "mimetype": "text/x-python",
   "name": "python",
   "nbconvert_exporter": "python",
   "pygments_lexer": "ipython3",
   "version": "3.6.9"
  }
 },
 "nbformat": 4,
 "nbformat_minor": 2
}
